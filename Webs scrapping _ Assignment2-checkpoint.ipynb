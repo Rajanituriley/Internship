{
 "cells": [
  {
   "cell_type": "code",
   "execution_count": 89,
   "id": "bec0879b",
   "metadata": {},
   "outputs": [
    {
     "name": "stdout",
     "output_type": "stream",
     "text": [
      "Requirement already satisfied: selenium in c:\\users\\admin\\anaconda3\\lib\\site-packages (4.15.0)\n",
      "Requirement already satisfied: urllib3[socks]<3,>=1.26 in c:\\users\\admin\\anaconda3\\lib\\site-packages (from selenium) (1.26.14)\n",
      "Requirement already satisfied: certifi>=2021.10.8 in c:\\users\\admin\\anaconda3\\lib\\site-packages (from selenium) (2023.5.7)\n",
      "Requirement already satisfied: trio-websocket~=0.9 in c:\\users\\admin\\anaconda3\\lib\\site-packages (from selenium) (0.11.1)\n",
      "Requirement already satisfied: trio~=0.17 in c:\\users\\admin\\anaconda3\\lib\\site-packages (from selenium) (0.22.2)\n",
      "Requirement already satisfied: cffi>=1.14 in c:\\users\\admin\\anaconda3\\lib\\site-packages (from trio~=0.17->selenium) (1.15.1)\n",
      "Requirement already satisfied: sortedcontainers in c:\\users\\admin\\anaconda3\\lib\\site-packages (from trio~=0.17->selenium) (2.4.0)\n",
      "Requirement already satisfied: sniffio in c:\\users\\admin\\anaconda3\\lib\\site-packages (from trio~=0.17->selenium) (1.2.0)\n",
      "Requirement already satisfied: idna in c:\\users\\admin\\anaconda3\\lib\\site-packages (from trio~=0.17->selenium) (3.4)\n",
      "Requirement already satisfied: outcome in c:\\users\\admin\\anaconda3\\lib\\site-packages (from trio~=0.17->selenium) (1.3.0.post0)\n",
      "Requirement already satisfied: exceptiongroup>=1.0.0rc9 in c:\\users\\admin\\anaconda3\\lib\\site-packages (from trio~=0.17->selenium) (1.1.3)\n",
      "Requirement already satisfied: attrs>=20.1.0 in c:\\users\\admin\\anaconda3\\lib\\site-packages (from trio~=0.17->selenium) (22.1.0)\n",
      "Requirement already satisfied: wsproto>=0.14 in c:\\users\\admin\\anaconda3\\lib\\site-packages (from trio-websocket~=0.9->selenium) (1.2.0)\n",
      "Requirement already satisfied: PySocks!=1.5.7,<2.0,>=1.5.6 in c:\\users\\admin\\anaconda3\\lib\\site-packages (from urllib3[socks]<3,>=1.26->selenium) (1.7.1)\n",
      "Requirement already satisfied: pycparser in c:\\users\\admin\\anaconda3\\lib\\site-packages (from cffi>=1.14->trio~=0.17->selenium) (2.21)\n",
      "Requirement already satisfied: h11<1,>=0.9.0 in c:\\users\\admin\\anaconda3\\lib\\site-packages (from wsproto>=0.14->trio-websocket~=0.9->selenium) (0.14.0)\n"
     ]
    }
   ],
   "source": [
    "!pip install selenium"
   ]
  },
  {
   "cell_type": "code",
   "execution_count": 90,
   "id": "00116ac7",
   "metadata": {},
   "outputs": [],
   "source": [
    "#lets import all lib\n",
    "import selenium\n",
    "from selenium import webdriver\n",
    "import pandas as pd\n",
    "from selenium.webdriver.common.by import By\n",
    "import warnings\n",
    "warnings.filterwarnings(\"ignore\")\n",
    "import time\n"
   ]
  },
  {
   "cell_type": "code",
   "execution_count": 157,
   "id": "4864fb51",
   "metadata": {},
   "outputs": [],
   "source": [
    "# open the crome browser\n",
    "driver= webdriver.Chrome()"
   ]
  },
  {
   "cell_type": "code",
   "execution_count": 158,
   "id": "1c8f69c6",
   "metadata": {},
   "outputs": [],
   "source": [
    "# open the website page by chrome driver\n",
    "driver.get(\"https://www.shine.com/\")"
   ]
  },
  {
   "cell_type": "code",
   "execution_count": 159,
   "id": "a6b707bc",
   "metadata": {},
   "outputs": [],
   "source": [
    "# Entering the designation and location\n",
    "designation = driver.find_element(By.CLASS_NAME,\"form-control\")\n",
    "designation.send_keys(\"Data Analyst\")\n"
   ]
  },
  {
   "cell_type": "code",
   "execution_count": 160,
   "id": "91768d8f",
   "metadata": {},
   "outputs": [],
   "source": [
    "location= driver.find_element(By.XPATH,\"/html/body/div/div[4]/div/div[2]/div[2]/div/form/div/div[1]/ul/li[2]/div/input\")\n",
    "location.send_keys(\"Bangalore\")"
   ]
  },
  {
   "cell_type": "code",
   "execution_count": 161,
   "id": "1b793987",
   "metadata": {},
   "outputs": [],
   "source": [
    "#search = driver.find_element(By.CLASS_NAME,\"qsbSubmit\")\n",
    "\n",
    "search = driver.find_element(By.XPATH,\"/html/body/div/div[4]/div/div[2]/div[2]/div/form/div/div[2]/div/button\")\n",
    "search.click()"
   ]
  },
  {
   "cell_type": "code",
   "execution_count": 162,
   "id": "60b6ecd6",
   "metadata": {},
   "outputs": [],
   "source": [
    "job_title=[]\n",
    "job_location=[]\n",
    "company_name=[]\n",
    "experience_required=[]"
   ]
  },
  {
   "cell_type": "code",
   "execution_count": 163,
   "id": "bf559744",
   "metadata": {},
   "outputs": [],
   "source": [
    "#Scraping the Jobtitle from the given page\n",
    "title_tags=driver.find_elements(By.XPATH,'//div[@class=\"jobCard_jobCard_cName__mYnow\"]')\n",
    "                                #('.//h3').text)\n",
    "                                #'//h2[@itemprop=\"name\"]/a')\n",
    "                                #'//*[@id=\"1\"]/div')\n",
    "                                #'//div[@class=\"jobCard_jobCard_cName__mYnow\"]/h2/a')\n",
    "                                #//div[@class=\"jobCard_jobCard_cName__mYnow\"]')\n",
    "for i in title_tags:\n",
    "    title=i.text\n",
    "    job_title.append(title)\n",
    "    \n",
    "# Scrapping the Job loaction from the given page\n",
    "\n",
    "\n",
    "location_tags=driver.find_elements(By.XPATH,'//div[@class=\" jobCard_jobCard_lists_item__YxRkV jobCard_locationIcon__zrWt2\"]')\n",
    "                                   #('.//p[1]/span[2]').text)\n",
    "                                   #'//div[@class=\" jobCard_jobCard_lists_item__YxRkV jobCard_locationIcon__zrWt2\"]')\n",
    "for i in location_tags:\n",
    "    location=i.text\n",
    "    job_location.append(location)\n",
    "  \n",
    "    # Scrapping the company name from the given page\n",
    "\n",
    "\n",
    "Company_tags=driver.find_elements(By.XPATH,'//div[@class=\"jobCard_jobCard_cName__mYnow\"]/span')\n",
    "                                  #('.//p[2]/span[1]').text)\n",
    "                                  #'//div[@class=\"jobCard_jobCard_cName__mYnow\"]/span')\n",
    "for i in Company_tags:\n",
    "    company=i.text\n",
    "    company_name.append(company)\n",
    "    \n",
    "# scrapping the experience from the given page\n",
    "\n",
    "experience_tags=driver.find_elements(By.XPATH,'//div[@class=\" jobCard_jobCard_lists_item__YxRkV jobCard_jobIcon__3FB1t\"]')\n",
    "for i in experience_tags:\n",
    "    experience=i.text\n",
    "    experience_required.append(experience)\n",
    "    \n",
    "\n",
    "    \n",
    "    \n",
    "    \n",
    "\n",
    "\n",
    "\n"
   ]
  },
  {
   "cell_type": "code",
   "execution_count": 107,
   "id": "9766f0a8",
   "metadata": {},
   "outputs": [
    {
     "name": "stdout",
     "output_type": "stream",
     "text": [
      "20 60 60 60\n"
     ]
    }
   ],
   "source": [
    "print (len(job_title[:20])\n",
    "len(job_location[:20]),\n",
    "len(company_name[:20]),\n",
    "len(experience_required[:20]))\n",
    "#print(len(job_titles[:10])),print(len(company_name[:10])),print(len(experience_list[:10])),print(len(locations_list[:10]))"
   ]
  },
  {
   "cell_type": "code",
   "execution_count": 164,
   "id": "31706461",
   "metadata": {},
   "outputs": [
    {
     "data": {
      "text/html": [
       "<div>\n",
       "<style scoped>\n",
       "    .dataframe tbody tr th:only-of-type {\n",
       "        vertical-align: middle;\n",
       "    }\n",
       "\n",
       "    .dataframe tbody tr th {\n",
       "        vertical-align: top;\n",
       "    }\n",
       "\n",
       "    .dataframe thead th {\n",
       "        text-align: right;\n",
       "    }\n",
       "</style>\n",
       "<table border=\"1\" class=\"dataframe\">\n",
       "  <thead>\n",
       "    <tr style=\"text-align: right;\">\n",
       "      <th></th>\n",
       "      <th>Title</th>\n",
       "      <th>Location</th>\n",
       "      <th>Company</th>\n",
       "      <th>Experience</th>\n",
       "    </tr>\n",
       "  </thead>\n",
       "  <tbody>\n",
       "    <tr>\n",
       "      <th>0</th>\n",
       "      <td>divya interprises</td>\n",
       "      <td>Bangalore\\n+14</td>\n",
       "      <td>divya interprises</td>\n",
       "      <td>0 to 4 Yrs</td>\n",
       "    </tr>\n",
       "    <tr>\n",
       "      <th>1</th>\n",
       "      <td>divya interprises</td>\n",
       "      <td>Bangalore\\n+14</td>\n",
       "      <td>divya interprises</td>\n",
       "      <td></td>\n",
       "    </tr>\n",
       "    <tr>\n",
       "      <th>2</th>\n",
       "      <td>quiscon biotech</td>\n",
       "      <td>Bangalore\\n+4</td>\n",
       "      <td>quiscon biotech</td>\n",
       "      <td></td>\n",
       "    </tr>\n",
       "    <tr>\n",
       "      <th>3</th>\n",
       "      <td>divya interprises</td>\n",
       "      <td>Bangalore\\n+14</td>\n",
       "      <td>divya interprises</td>\n",
       "      <td></td>\n",
       "    </tr>\n",
       "    <tr>\n",
       "      <th>4</th>\n",
       "      <td>divya interprises</td>\n",
       "      <td>Bangalore\\n+14</td>\n",
       "      <td>divya interprises</td>\n",
       "      <td></td>\n",
       "    </tr>\n",
       "    <tr>\n",
       "      <th>5</th>\n",
       "      <td>divya interprises</td>\n",
       "      <td>Bangalore\\n+14</td>\n",
       "      <td>divya interprises</td>\n",
       "      <td></td>\n",
       "    </tr>\n",
       "    <tr>\n",
       "      <th>6</th>\n",
       "      <td>merck ltd</td>\n",
       "      <td>Bangalore</td>\n",
       "      <td>merck ltd</td>\n",
       "      <td></td>\n",
       "    </tr>\n",
       "    <tr>\n",
       "      <th>7</th>\n",
       "      <td>techno endura</td>\n",
       "      <td>Bangalore\\n+6</td>\n",
       "      <td>techno endura</td>\n",
       "      <td></td>\n",
       "    </tr>\n",
       "    <tr>\n",
       "      <th>8</th>\n",
       "      <td>jpmorgan</td>\n",
       "      <td>Bangalore</td>\n",
       "      <td>jpmorgan</td>\n",
       "      <td></td>\n",
       "    </tr>\n",
       "    <tr>\n",
       "      <th>9</th>\n",
       "      <td>divya interprises</td>\n",
       "      <td>Bangalore\\n+14</td>\n",
       "      <td>divya interprises</td>\n",
       "      <td></td>\n",
       "    </tr>\n",
       "    <tr>\n",
       "      <th>10</th>\n",
       "      <td>v-tech data outsourcing</td>\n",
       "      <td>Bangalore\\n+9</td>\n",
       "      <td>v-tech data outsourcing</td>\n",
       "      <td></td>\n",
       "    </tr>\n",
       "    <tr>\n",
       "      <th>11</th>\n",
       "      <td>cisco systems, inc.</td>\n",
       "      <td>Bangalore</td>\n",
       "      <td>cisco systems, inc.</td>\n",
       "      <td></td>\n",
       "    </tr>\n",
       "    <tr>\n",
       "      <th>12</th>\n",
       "      <td>paytm</td>\n",
       "      <td>Bangalore</td>\n",
       "      <td>paytm</td>\n",
       "      <td></td>\n",
       "    </tr>\n",
       "    <tr>\n",
       "      <th>13</th>\n",
       "      <td>dell</td>\n",
       "      <td>Bangalore</td>\n",
       "      <td>dell</td>\n",
       "      <td></td>\n",
       "    </tr>\n",
       "    <tr>\n",
       "      <th>14</th>\n",
       "      <td>jpmorgan</td>\n",
       "      <td>Bangalore</td>\n",
       "      <td>jpmorgan</td>\n",
       "      <td></td>\n",
       "    </tr>\n",
       "    <tr>\n",
       "      <th>15</th>\n",
       "      <td>schneider electric</td>\n",
       "      <td>Bangalore</td>\n",
       "      <td>schneider electric</td>\n",
       "      <td></td>\n",
       "    </tr>\n",
       "    <tr>\n",
       "      <th>16</th>\n",
       "      <td>futures and careers</td>\n",
       "      <td>Bangalore</td>\n",
       "      <td>futures and careers</td>\n",
       "      <td></td>\n",
       "    </tr>\n",
       "    <tr>\n",
       "      <th>17</th>\n",
       "      <td>futures and careers</td>\n",
       "      <td>Bangalore</td>\n",
       "      <td>futures and careers</td>\n",
       "      <td></td>\n",
       "    </tr>\n",
       "    <tr>\n",
       "      <th>18</th>\n",
       "      <td>ntt limited</td>\n",
       "      <td>Bangalore</td>\n",
       "      <td>ntt limited</td>\n",
       "      <td></td>\n",
       "    </tr>\n",
       "    <tr>\n",
       "      <th>19</th>\n",
       "      <td>infosys limited</td>\n",
       "      <td>Bangalore</td>\n",
       "      <td>infosys limited</td>\n",
       "      <td></td>\n",
       "    </tr>\n",
       "  </tbody>\n",
       "</table>\n",
       "</div>"
      ],
      "text/plain": [
       "                      Title        Location                  Company  \\\n",
       "0         divya interprises  Bangalore\\n+14        divya interprises   \n",
       "1         divya interprises  Bangalore\\n+14        divya interprises   \n",
       "2           quiscon biotech   Bangalore\\n+4          quiscon biotech   \n",
       "3         divya interprises  Bangalore\\n+14        divya interprises   \n",
       "4         divya interprises  Bangalore\\n+14        divya interprises   \n",
       "5         divya interprises  Bangalore\\n+14        divya interprises   \n",
       "6                 merck ltd       Bangalore                merck ltd   \n",
       "7             techno endura   Bangalore\\n+6            techno endura   \n",
       "8                  jpmorgan       Bangalore                 jpmorgan   \n",
       "9         divya interprises  Bangalore\\n+14        divya interprises   \n",
       "10  v-tech data outsourcing   Bangalore\\n+9  v-tech data outsourcing   \n",
       "11      cisco systems, inc.       Bangalore      cisco systems, inc.   \n",
       "12                    paytm       Bangalore                    paytm   \n",
       "13                     dell       Bangalore                     dell   \n",
       "14                 jpmorgan       Bangalore                 jpmorgan   \n",
       "15       schneider electric       Bangalore       schneider electric   \n",
       "16      futures and careers       Bangalore      futures and careers   \n",
       "17      futures and careers       Bangalore      futures and careers   \n",
       "18              ntt limited       Bangalore              ntt limited   \n",
       "19          infosys limited       Bangalore          infosys limited   \n",
       "\n",
       "    Experience  \n",
       "0   0 to 4 Yrs  \n",
       "1               \n",
       "2               \n",
       "3               \n",
       "4               \n",
       "5               \n",
       "6               \n",
       "7               \n",
       "8               \n",
       "9               \n",
       "10              \n",
       "11              \n",
       "12              \n",
       "13              \n",
       "14              \n",
       "15              \n",
       "16              \n",
       "17              \n",
       "18              \n",
       "19              "
      ]
     },
     "execution_count": 164,
     "metadata": {},
     "output_type": "execute_result"
    }
   ],
   "source": [
    "import pandas as pd\n",
    "\n",
    "df= pd.DataFrame({'Title':job_title[:20],'Location':job_location[:20],'Company':company_name[:20],'Experience':experience_required[:20]})\n",
    "\n",
    "\n",
    "df\n"
   ]
  },
  {
   "cell_type": "markdown",
   "id": "3ee2fddd",
   "metadata": {},
   "source": [
    "Q6 : Scrape data of first 100 sunglasses listings on flipkart.com. You have to scrape four attributes:\n",
    "\n",
    "Brand\n",
    "\n",
    "Product Description\n",
    "\n",
    "Price\n",
    "\n",
    "Discount %\n",
    "\n",
    "The attributes which you have to scrape is ticked marked in the below image."
   ]
  },
  {
   "cell_type": "code",
   "execution_count": 120,
   "id": "d1ca525c",
   "metadata": {},
   "outputs": [],
   "source": [
    "# open the crome browser\n",
    "driver= webdriver.Chrome()"
   ]
  },
  {
   "cell_type": "code",
   "execution_count": 121,
   "id": "72163ece",
   "metadata": {},
   "outputs": [],
   "source": [
    "url=\"https://www.flipkart.com/\"\n",
    "driver.get(url)"
   ]
  },
  {
   "cell_type": "code",
   "execution_count": 122,
   "id": "b0a30b11",
   "metadata": {},
   "outputs": [
    {
     "data": {
      "text/plain": [
       "<selenium.webdriver.remote.webelement.WebElement (session=\"ba2a44f67b5b22ac3022cfa7837b418a\", element=\"4C87DBDF84DB0AC290032F7C0CC9A7D3_element_77\")>"
      ]
     },
     "execution_count": 122,
     "metadata": {},
     "output_type": "execute_result"
    }
   ],
   "source": [
    "# finding element for job search bar\n",
    "search_g= driver.find_element(By.XPATH,\"//input[@type='text']\")\n",
    "search_g"
   ]
  },
  {
   "cell_type": "code",
   "execution_count": 123,
   "id": "96543ca5",
   "metadata": {},
   "outputs": [],
   "source": [
    "# write on search bar\n",
    "search_g.send_keys('sunglasses')"
   ]
  },
  {
   "cell_type": "code",
   "execution_count": 124,
   "id": "2b6dab4d",
   "metadata": {},
   "outputs": [],
   "source": [
    "search_g.submit()\n"
   ]
  },
  {
   "cell_type": "code",
   "execution_count": 113,
   "id": "d3fe9eca",
   "metadata": {},
   "outputs": [
    {
     "ename": "IndexError",
     "evalue": "list index out of range",
     "output_type": "error",
     "traceback": [
      "\u001b[1;31m---------------------------------------------------------------------------\u001b[0m",
      "\u001b[1;31mIndexError\u001b[0m                                Traceback (most recent call last)",
      "Cell \u001b[1;32mIn[113], line 6\u001b[0m\n\u001b[0;32m      3\u001b[0m data \u001b[38;5;241m=\u001b[39m []\n\u001b[0;32m      5\u001b[0m \u001b[38;5;28;01mfor\u001b[39;00m i \u001b[38;5;129;01min\u001b[39;00m \u001b[38;5;28mrange\u001b[39m(\u001b[38;5;241m100\u001b[39m):\n\u001b[1;32m----> 6\u001b[0m     brand \u001b[38;5;241m=\u001b[39m \u001b[43msunglasses\u001b[49m\u001b[43m[\u001b[49m\u001b[43mi\u001b[49m\u001b[43m]\u001b[49m\u001b[38;5;241m.\u001b[39mfind_element(By\u001b[38;5;241m.\u001b[39mXPATH, \u001b[38;5;124m\"\u001b[39m\u001b[38;5;124m.//div[@class=\u001b[39m\u001b[38;5;124m'\u001b[39m\u001b[38;5;124m_2WkVRV\u001b[39m\u001b[38;5;124m'\u001b[39m\u001b[38;5;124m]\u001b[39m\u001b[38;5;124m\"\u001b[39m)\n\u001b[0;32m      7\u001b[0m     description \u001b[38;5;241m=\u001b[39m sunglasses[i]\u001b[38;5;241m.\u001b[39mfind_element(By\u001b[38;5;241m.\u001b[39mXPATH, \u001b[38;5;124m\"\u001b[39m\u001b[38;5;124m.//a[@class=\u001b[39m\u001b[38;5;124m'\u001b[39m\u001b[38;5;124mIRpwTa\u001b[39m\u001b[38;5;124m'\u001b[39m\u001b[38;5;124m]\u001b[39m\u001b[38;5;124m\"\u001b[39m)\n\u001b[0;32m      8\u001b[0m     price \u001b[38;5;241m=\u001b[39m sunglasses[i]\u001b[38;5;241m.\u001b[39mfind_element(By\u001b[38;5;241m.\u001b[39mXPATH, \u001b[38;5;124m\"\u001b[39m\u001b[38;5;124m.//div[@class=\u001b[39m\u001b[38;5;124m'\u001b[39m\u001b[38;5;124m_30jeq3 _1_WHN1\u001b[39m\u001b[38;5;124m'\u001b[39m\u001b[38;5;124m]\u001b[39m\u001b[38;5;124m\"\u001b[39m)\n",
      "\u001b[1;31mIndexError\u001b[0m: list index out of range"
     ]
    }
   ],
   "source": [
    "#Scrape the required attributes from the first 100 listings:\n",
    "sunglasses = driver.find_elements(By.XPATH, \"//div[@class='_1jJQdf _2Mji8F']\")\n",
    "data = []\n",
    "\n",
    "for i in range(100):\n",
    "    brand = sunglasses[i].find_element(By.XPATH, \".//div[@class='_2WkVRV']\")\n",
    "    description = sunglasses[i].find_element(By.XPATH, \".//a[@class='IRpwTa']\")\n",
    "    price = sunglasses[i].find_element(By.XPATH, \".//div[@class='_30jeq3 _1_WHN1']\")\n"
   ]
  },
  {
   "cell_type": "code",
   "execution_count": null,
   "id": "3cb3f0dc",
   "metadata": {},
   "outputs": [],
   "source": [
    "data.append({\n",
    "    'Brand': brand.text,\n",
    "  'ProductDescription': description.text,\n",
    "  'Price': price.text\n",
    "  })\n"
   ]
  },
  {
   "cell_type": "code",
   "execution_count": 114,
   "id": "9b5e22e3",
   "metadata": {},
   "outputs": [],
   "source": [
    "#Print the scraped data:\n",
    "for item in data:\n",
    "      print(item)"
   ]
  },
  {
   "cell_type": "code",
   "execution_count": 125,
   "id": "73391e00",
   "metadata": {},
   "outputs": [],
   "source": [
    "B_name=[]\n",
    "Price=[]\n",
    "P_desc=[]\n",
    "Discount=[]"
   ]
  },
  {
   "cell_type": "code",
   "execution_count": 128,
   "id": "6a2aa7d3",
   "metadata": {},
   "outputs": [],
   "source": [
    "for i in range(3):\n",
    "    b_name=driver.find_elements(By.XPATH, \".//div[@class='_2WkVRV']\")\n",
    "    p_desc=driver.find_elements(By.XPATH, \".//a[@class='IRpwTa']\")\n",
    "    price =driver.find_elements(By.XPATH,\"//div[@class='_25b18c']\")\n",
    "    discount=driver.find_elements(By.XPATH,\"//div[@class='_3Ay6Sb']\")\n",
    "    \n",
    "    for j  in b_name:\n",
    "        B_name.append(j.text)\n",
    "    B_name[:100]    \n",
    "    \n",
    "    \n",
    "    \n",
    "    for k in p_desc:\n",
    "        P_desc.append(k.text)\n",
    "    P_desc[:100] \n",
    "    \n",
    "    \n",
    "    for l in price:\n",
    "        Price.append(l.text)\n",
    "    Price[:100] \n",
    "    \n",
    "    \n",
    "    for t in discount:\n",
    "        Discount.append(t.text)\n",
    "    Discount[:100]"
   ]
  },
  {
   "cell_type": "code",
   "execution_count": 129,
   "id": "f9900de2",
   "metadata": {},
   "outputs": [
    {
     "data": {
      "text/plain": [
       "['VINCENT CHASE',\n",
       " 'ROYAL SON',\n",
       " 'SRPM',\n",
       " 'Fastrack',\n",
       " 'GANSTA',\n",
       " 'Fastrack',\n",
       " 'ROADWAY',\n",
       " 'hipe',\n",
       " 'ROADWAY',\n",
       " 'Elligator',\n",
       " 'VINCENT CHASE',\n",
       " 'Nicole Miller',\n",
       " 'ROYAL SON',\n",
       " 'Roadster',\n",
       " 'Rich Club',\n",
       " 'ROZZETTA CRAFT',\n",
       " 'VINCENT CHASE',\n",
       " 'john jacobs',\n",
       " 'iCopertina',\n",
       " 'Roadster',\n",
       " 'VINCENT CHASE',\n",
       " 'ROYAL SON',\n",
       " 'ROZZETTA CRAFT',\n",
       " 'Elligator',\n",
       " 'METRONAUT',\n",
       " 'Rich Club',\n",
       " 'ROYAL SON',\n",
       " 'ROYAL SON',\n",
       " 'Roadster',\n",
       " 'ROADWAY',\n",
       " 'VINCENT CHASE',\n",
       " 'VINCENT CHASE',\n",
       " 'iCopertina',\n",
       " 'PIRASO',\n",
       " 'PIRASO',\n",
       " 'ROYAL SON',\n",
       " 'Eyewearlabs',\n",
       " 'NuVew',\n",
       " 'DEIXELS',\n",
       " 'Rich Club',\n",
       " 'VINCENT CHASE',\n",
       " 'ROYAL SON',\n",
       " 'SRPM',\n",
       " 'Fastrack',\n",
       " 'GANSTA',\n",
       " 'Fastrack',\n",
       " 'ROADWAY',\n",
       " 'hipe',\n",
       " 'ROADWAY',\n",
       " 'Elligator',\n",
       " 'VINCENT CHASE',\n",
       " 'Nicole Miller',\n",
       " 'ROYAL SON',\n",
       " 'Roadster',\n",
       " 'Rich Club',\n",
       " 'ROZZETTA CRAFT',\n",
       " 'VINCENT CHASE',\n",
       " 'john jacobs',\n",
       " 'iCopertina',\n",
       " 'Roadster',\n",
       " 'VINCENT CHASE',\n",
       " 'ROYAL SON',\n",
       " 'ROZZETTA CRAFT',\n",
       " 'Elligator',\n",
       " 'METRONAUT',\n",
       " 'Rich Club',\n",
       " 'ROYAL SON',\n",
       " 'ROYAL SON',\n",
       " 'Roadster',\n",
       " 'ROADWAY',\n",
       " 'VINCENT CHASE',\n",
       " 'VINCENT CHASE',\n",
       " 'iCopertina',\n",
       " 'PIRASO',\n",
       " 'PIRASO',\n",
       " 'ROYAL SON',\n",
       " 'Eyewearlabs',\n",
       " 'NuVew',\n",
       " 'DEIXELS',\n",
       " 'Rich Club',\n",
       " 'VINCENT CHASE',\n",
       " 'ROYAL SON',\n",
       " 'SRPM',\n",
       " 'Fastrack',\n",
       " 'GANSTA',\n",
       " 'Fastrack',\n",
       " 'ROADWAY',\n",
       " 'hipe',\n",
       " 'ROADWAY',\n",
       " 'Elligator',\n",
       " 'VINCENT CHASE',\n",
       " 'Nicole Miller',\n",
       " 'ROYAL SON',\n",
       " 'Roadster',\n",
       " 'Rich Club',\n",
       " 'ROZZETTA CRAFT',\n",
       " 'VINCENT CHASE',\n",
       " 'john jacobs',\n",
       " 'iCopertina',\n",
       " 'Roadster']"
      ]
     },
     "execution_count": 129,
     "metadata": {},
     "output_type": "execute_result"
    }
   ],
   "source": [
    "B_name[:100]"
   ]
  },
  {
   "cell_type": "code",
   "execution_count": 130,
   "id": "5162385b",
   "metadata": {},
   "outputs": [
    {
     "name": "stdout",
     "output_type": "stream",
     "text": [
      "100\n",
      "100\n",
      "100\n",
      "100\n"
     ]
    },
    {
     "data": {
      "text/plain": [
       "(None, None, None, None)"
      ]
     },
     "execution_count": 130,
     "metadata": {},
     "output_type": "execute_result"
    }
   ],
   "source": [
    "print(len(B_name[:100])),print(len(Price[:100])),print(len(P_desc[:100])),print(len(Discount[:100]))"
   ]
  },
  {
   "cell_type": "code",
   "execution_count": 131,
   "id": "66ca1e89",
   "metadata": {},
   "outputs": [],
   "source": [
    "#Create the Data frame\n",
    "\n",
    "sun_gl=pd.DataFrame({})\n",
    "sun_gl['Brand_name']=B_name[:100]\n",
    "sun_gl['P_price']=Price[:100]\n",
    "sun_gl['Pr_desc']=P_desc[:100]\n",
    "sun_gl['P_discount']=Discount[:100]"
   ]
  },
  {
   "cell_type": "code",
   "execution_count": 132,
   "id": "d487fdde",
   "metadata": {},
   "outputs": [
    {
     "data": {
      "text/html": [
       "<div>\n",
       "<style scoped>\n",
       "    .dataframe tbody tr th:only-of-type {\n",
       "        vertical-align: middle;\n",
       "    }\n",
       "\n",
       "    .dataframe tbody tr th {\n",
       "        vertical-align: top;\n",
       "    }\n",
       "\n",
       "    .dataframe thead th {\n",
       "        text-align: right;\n",
       "    }\n",
       "</style>\n",
       "<table border=\"1\" class=\"dataframe\">\n",
       "  <thead>\n",
       "    <tr style=\"text-align: right;\">\n",
       "      <th></th>\n",
       "      <th>Brand_name</th>\n",
       "      <th>P_price</th>\n",
       "      <th>Pr_desc</th>\n",
       "      <th>P_discount</th>\n",
       "    </tr>\n",
       "  </thead>\n",
       "  <tbody>\n",
       "    <tr>\n",
       "      <th>0</th>\n",
       "      <td>VINCENT CHASE</td>\n",
       "      <td>₹499₹1,99975% off</td>\n",
       "      <td>UV Protection Clubmaster Sunglasses (53)</td>\n",
       "      <td>75% off</td>\n",
       "    </tr>\n",
       "    <tr>\n",
       "      <th>1</th>\n",
       "      <td>ROYAL SON</td>\n",
       "      <td>₹339₹1,49977% off</td>\n",
       "      <td>Mirrored Aviator Sunglasses (58)</td>\n",
       "      <td>77% off</td>\n",
       "    </tr>\n",
       "    <tr>\n",
       "      <th>2</th>\n",
       "      <td>SRPM</td>\n",
       "      <td>₹149₹1,29988% off</td>\n",
       "      <td>UV Protection Wayfarer Sunglasses (50)</td>\n",
       "      <td>88% off</td>\n",
       "    </tr>\n",
       "    <tr>\n",
       "      <th>3</th>\n",
       "      <td>Fastrack</td>\n",
       "      <td>₹549₹1,09950% off</td>\n",
       "      <td>UV Protection Wayfarer Sunglasses (58)</td>\n",
       "      <td>50% off</td>\n",
       "    </tr>\n",
       "    <tr>\n",
       "      <th>4</th>\n",
       "      <td>GANSTA</td>\n",
       "      <td>₹79₹1,29993% off</td>\n",
       "      <td>Night Vision, Riding Glasses Rectangular Sungl...</td>\n",
       "      <td>93% off</td>\n",
       "    </tr>\n",
       "    <tr>\n",
       "      <th>...</th>\n",
       "      <td>...</td>\n",
       "      <td>...</td>\n",
       "      <td>...</td>\n",
       "      <td>...</td>\n",
       "    </tr>\n",
       "    <tr>\n",
       "      <th>95</th>\n",
       "      <td>ROZZETTA CRAFT</td>\n",
       "      <td>₹449₹89950% off</td>\n",
       "      <td>UV Protection, Gradient Rectangular Sunglasses...</td>\n",
       "      <td>85% off</td>\n",
       "    </tr>\n",
       "    <tr>\n",
       "      <th>96</th>\n",
       "      <td>VINCENT CHASE</td>\n",
       "      <td>₹199₹1,29984% off</td>\n",
       "      <td>UV Protection Rectangular Sunglasses (53)</td>\n",
       "      <td>75% off</td>\n",
       "    </tr>\n",
       "    <tr>\n",
       "      <th>97</th>\n",
       "      <td>john jacobs</td>\n",
       "      <td>₹228₹1,46684% off</td>\n",
       "      <td>UV Protection Round Sunglasses (51)</td>\n",
       "      <td>78% off</td>\n",
       "    </tr>\n",
       "    <tr>\n",
       "      <th>98</th>\n",
       "      <td>iCopertina</td>\n",
       "      <td>₹254₹99974% off</td>\n",
       "      <td>UV Protection Rectangular Sunglasses (Free Size)</td>\n",
       "      <td>80% off</td>\n",
       "    </tr>\n",
       "    <tr>\n",
       "      <th>99</th>\n",
       "      <td>Roadster</td>\n",
       "      <td>₹149₹59975% off</td>\n",
       "      <td>UV Protection Aviator Sunglasses (58)</td>\n",
       "      <td>79% off</td>\n",
       "    </tr>\n",
       "  </tbody>\n",
       "</table>\n",
       "<p>100 rows × 4 columns</p>\n",
       "</div>"
      ],
      "text/plain": [
       "        Brand_name            P_price  \\\n",
       "0    VINCENT CHASE  ₹499₹1,99975% off   \n",
       "1        ROYAL SON  ₹339₹1,49977% off   \n",
       "2             SRPM  ₹149₹1,29988% off   \n",
       "3         Fastrack  ₹549₹1,09950% off   \n",
       "4           GANSTA   ₹79₹1,29993% off   \n",
       "..             ...                ...   \n",
       "95  ROZZETTA CRAFT    ₹449₹89950% off   \n",
       "96   VINCENT CHASE  ₹199₹1,29984% off   \n",
       "97     john jacobs  ₹228₹1,46684% off   \n",
       "98      iCopertina    ₹254₹99974% off   \n",
       "99        Roadster    ₹149₹59975% off   \n",
       "\n",
       "                                              Pr_desc P_discount  \n",
       "0            UV Protection Clubmaster Sunglasses (53)    75% off  \n",
       "1                    Mirrored Aviator Sunglasses (58)    77% off  \n",
       "2              UV Protection Wayfarer Sunglasses (50)    88% off  \n",
       "3              UV Protection Wayfarer Sunglasses (58)    50% off  \n",
       "4   Night Vision, Riding Glasses Rectangular Sungl...    93% off  \n",
       "..                                                ...        ...  \n",
       "95  UV Protection, Gradient Rectangular Sunglasses...    85% off  \n",
       "96          UV Protection Rectangular Sunglasses (53)    75% off  \n",
       "97                UV Protection Round Sunglasses (51)    78% off  \n",
       "98   UV Protection Rectangular Sunglasses (Free Size)    80% off  \n",
       "99              UV Protection Aviator Sunglasses (58)    79% off  \n",
       "\n",
       "[100 rows x 4 columns]"
      ]
     },
     "execution_count": 132,
     "metadata": {},
     "output_type": "execute_result"
    }
   ],
   "source": [
    "sun_gl"
   ]
  },
  {
   "cell_type": "markdown",
   "id": "8532bf1b",
   "metadata": {},
   "source": [
    "To scrape data for the top 1000 quotes of all time from the website \"https://www.azquotes.com/\", you can follow these steps:"
   ]
  },
  {
   "cell_type": "code",
   "execution_count": 133,
   "id": "caccb953",
   "metadata": {},
   "outputs": [],
   "source": [
    "driver = webdriver.Chrome()"
   ]
  },
  {
   "cell_type": "code",
   "execution_count": 134,
   "id": "6fd88a58",
   "metadata": {},
   "outputs": [],
   "source": [
    "driver.get(\"https://www.azquotes.com/\")"
   ]
  },
  {
   "cell_type": "code",
   "execution_count": 135,
   "id": "d907b664",
   "metadata": {},
   "outputs": [],
   "source": [
    "#Click on \"Top Quotes\":\n",
    "top_quotes_btn = driver.find_element(By.XPATH, \"/html/body/div[1]/div[1]/div[1]/div/div[3]/ul/li[5]/a\")\n",
    "top_quotes_btn.click()"
   ]
  },
  {
   "cell_type": "code",
   "execution_count": 136,
   "id": "90316a99",
   "metadata": {},
   "outputs": [
    {
     "name": "stdout",
     "output_type": "stream",
     "text": [
      "\n"
     ]
    }
   ],
   "source": [
    "#Scrape the data:\n",
    "quotes = driver.find_elements(By.CSS_SELECTOR, \".title a\")\n",
    "authors = driver.find_elements(By.CSS_SELECTOR, \".author a\")\n",
    "types = driver.find_elements(By.CSS_SELECTOR, \".kw-box a\")\n",
    "\n",
    "for quote, author, quote_type in zip(quotes, authors, types):\n",
    "    print(\"Quote:\", quote.text)\n",
    "    print(\"Author:\", author.text)\n",
    "    print(\"Type of Quote:\", quote_type.text)\n",
    "print()"
   ]
  },
  {
   "cell_type": "markdown",
   "id": "350cf5b3",
   "metadata": {},
   "source": [
    "#Q9: Write a python program to display list of respected former Prime Ministers of India(i.e. Name, Born-Dead,\n",
    "Term of office, Remarks) from https://www.jagranjosh.com/.\n",
    "This task will be done in following steps:\n",
    "1. First get the webpagehttps://www.jagranjosh.com/\n",
    "2. Then You have to click on the GK option\n",
    "3. Then click on the List of all Prime Ministers of India\n",
    "4. Then scrap the mentioned data and make theDataFrame."
   ]
  },
  {
   "cell_type": "code",
   "execution_count": 151,
   "id": "82c94cd1",
   "metadata": {},
   "outputs": [],
   "source": [
    "driver = webdriver.Chrome()"
   ]
  },
  {
   "cell_type": "code",
   "execution_count": 152,
   "id": "4f5f4b87",
   "metadata": {},
   "outputs": [],
   "source": [
    "driver.get('https://www.jagranjosh.com/')"
   ]
  },
  {
   "cell_type": "code",
   "execution_count": 153,
   "id": "8468f3f7",
   "metadata": {},
   "outputs": [],
   "source": [
    "#Click on \"GK\":\n",
    "top_quotes_btn = driver.find_element(By.XPATH, \"/html/body/div[1]/header/nav/div/div/div[3]/ul/li[6]/a\")\n",
    "top_quotes_btn.click()"
   ]
  },
  {
   "cell_type": "code",
   "execution_count": 154,
   "id": "e37ffd4f",
   "metadata": {},
   "outputs": [],
   "source": [
    "#Click on the \"List of all Prime Ministers of India\"\n",
    "pm_option = driver.find_element(By.LINK_TEXT,'GK')\n",
    "#(By.XPATH,'/html/body/div[2]/div/div/div[2]/div/div[10]/div/div/ul/li[2]/a')\n",
    "pm_option.click()\n"
   ]
  },
  {
   "cell_type": "code",
   "execution_count": 156,
   "id": "bb128613",
   "metadata": {},
   "outputs": [],
   "source": [
    "quotes = driver.find_elements(By.CSS_SELECTOR, \".title a\")\n",
    "authors = driver.find_elements(By.CSS_SELECTOR, \".author a\")\n",
    "types = driver.find_elements(By.CSS_SELECTOR, \".kw-box a\")\n",
    "\n",
    "for quote, author, quote_type in zip(quotes, authors, types):\n",
    "    print(\"Quote:\", quote.text)\n",
    "    print(\"Author:\", author.text)\n",
    "    print(\"Type of Quote:\", quote_type.text)\n",
    "    print()"
   ]
  },
  {
   "cell_type": "code",
   "execution_count": 150,
   "id": "cac674bb",
   "metadata": {},
   "outputs": [
    {
     "ename": "InvalidSelectorException",
     "evalue": "Message: invalid selector: An invalid or illegal selector was specified\n  (Session info: chrome=118.0.5993.120); For documentation on this error, please visit: https://www.selenium.dev/documentation/webdriver/troubleshooting/errors#invalid-selector-exception\nStacktrace:\n\tGetHandleVerifier [0x00007FF6A1268EF2+54786]\n\t(No symbol) [0x00007FF6A11D5612]\n\t(No symbol) [0x00007FF6A108A64B]\n\t(No symbol) [0x00007FF6A108F116]\n\t(No symbol) [0x00007FF6A109115F]\n\t(No symbol) [0x00007FF6A1091250]\n\t(No symbol) [0x00007FF6A10CB424]\n\t(No symbol) [0x00007FF6A10CB91C]\n\t(No symbol) [0x00007FF6A1106D87]\n\t(No symbol) [0x00007FF6A10EBEAF]\n\t(No symbol) [0x00007FF6A1104D02]\n\t(No symbol) [0x00007FF6A10EBC43]\n\t(No symbol) [0x00007FF6A10C0941]\n\t(No symbol) [0x00007FF6A10C1B84]\n\tGetHandleVerifier [0x00007FF6A15B7F52+3524194]\n\tGetHandleVerifier [0x00007FF6A160D800+3874576]\n\tGetHandleVerifier [0x00007FF6A1605D7F+3843215]\n\tGetHandleVerifier [0x00007FF6A1305086+694166]\n\t(No symbol) [0x00007FF6A11E0A88]\n\t(No symbol) [0x00007FF6A11DCA94]\n\t(No symbol) [0x00007FF6A11DCBC2]\n\t(No symbol) [0x00007FF6A11CCC83]\n\tBaseThreadInitThunk [0x00007FFC9A387604+20]\n\tRtlUserThreadStart [0x00007FFC9BD226A1+33]\n",
     "output_type": "error",
     "traceback": [
      "\u001b[1;31m---------------------------------------------------------------------------\u001b[0m",
      "\u001b[1;31mInvalidSelectorException\u001b[0m                  Traceback (most recent call last)",
      "Cell \u001b[1;32mIn[150], line 10\u001b[0m\n\u001b[0;32m      7\u001b[0m driver\u001b[38;5;241m.\u001b[39mget(\u001b[38;5;124m\"\u001b[39m\u001b[38;5;124mhttps://www.motor1.com/\u001b[39m\u001b[38;5;124m\"\u001b[39m)\n\u001b[0;32m      9\u001b[0m \u001b[38;5;66;03m# Step 2: Type in the search bar '50 most expensive cars'\u001b[39;00m\n\u001b[1;32m---> 10\u001b[0m search_bar \u001b[38;5;241m=\u001b[39m \u001b[43mdriver\u001b[49m\u001b[38;5;241;43m.\u001b[39;49m\u001b[43mfind_element\u001b[49m\u001b[43m(\u001b[49m\u001b[43mBy\u001b[49m\u001b[38;5;241;43m.\u001b[39;49m\u001b[43mID\u001b[49m\u001b[43m,\u001b[49m\u001b[38;5;124;43m'\u001b[39;49m\u001b[38;5;124;43m//*[@id=\u001b[39;49m\u001b[38;5;124;43m\"\u001b[39;49m\u001b[38;5;124;43msearch_input\u001b[39;49m\u001b[38;5;124;43m\"\u001b[39;49m\u001b[38;5;124;43m]\u001b[39;49m\u001b[38;5;124;43m'\u001b[39;49m\u001b[43m)\u001b[49m\n\u001b[0;32m     11\u001b[0m search_bar\u001b[38;5;241m.\u001b[39msend_keys(\u001b[38;5;124m\"\u001b[39m\u001b[38;5;124m50 most expensive cars\u001b[39m\u001b[38;5;124m\"\u001b[39m)\n\u001b[0;32m     12\u001b[0m search_bar\u001b[38;5;241m.\u001b[39msubmit()\n",
      "File \u001b[1;32m~\\anaconda3\\lib\\site-packages\\selenium\\webdriver\\remote\\webdriver.py:740\u001b[0m, in \u001b[0;36mWebDriver.find_element\u001b[1;34m(self, by, value)\u001b[0m\n\u001b[0;32m    737\u001b[0m     by \u001b[38;5;241m=\u001b[39m By\u001b[38;5;241m.\u001b[39mCSS_SELECTOR\n\u001b[0;32m    738\u001b[0m     value \u001b[38;5;241m=\u001b[39m \u001b[38;5;124mf\u001b[39m\u001b[38;5;124m'\u001b[39m\u001b[38;5;124m[name=\u001b[39m\u001b[38;5;124m\"\u001b[39m\u001b[38;5;132;01m{\u001b[39;00mvalue\u001b[38;5;132;01m}\u001b[39;00m\u001b[38;5;124m\"\u001b[39m\u001b[38;5;124m]\u001b[39m\u001b[38;5;124m'\u001b[39m\n\u001b[1;32m--> 740\u001b[0m \u001b[38;5;28;01mreturn\u001b[39;00m \u001b[38;5;28;43mself\u001b[39;49m\u001b[38;5;241;43m.\u001b[39;49m\u001b[43mexecute\u001b[49m\u001b[43m(\u001b[49m\u001b[43mCommand\u001b[49m\u001b[38;5;241;43m.\u001b[39;49m\u001b[43mFIND_ELEMENT\u001b[49m\u001b[43m,\u001b[49m\u001b[43m \u001b[49m\u001b[43m{\u001b[49m\u001b[38;5;124;43m\"\u001b[39;49m\u001b[38;5;124;43musing\u001b[39;49m\u001b[38;5;124;43m\"\u001b[39;49m\u001b[43m:\u001b[49m\u001b[43m \u001b[49m\u001b[43mby\u001b[49m\u001b[43m,\u001b[49m\u001b[43m \u001b[49m\u001b[38;5;124;43m\"\u001b[39;49m\u001b[38;5;124;43mvalue\u001b[39;49m\u001b[38;5;124;43m\"\u001b[39;49m\u001b[43m:\u001b[49m\u001b[43m \u001b[49m\u001b[43mvalue\u001b[49m\u001b[43m}\u001b[49m\u001b[43m)\u001b[49m[\u001b[38;5;124m\"\u001b[39m\u001b[38;5;124mvalue\u001b[39m\u001b[38;5;124m\"\u001b[39m]\n",
      "File \u001b[1;32m~\\anaconda3\\lib\\site-packages\\selenium\\webdriver\\remote\\webdriver.py:346\u001b[0m, in \u001b[0;36mWebDriver.execute\u001b[1;34m(self, driver_command, params)\u001b[0m\n\u001b[0;32m    344\u001b[0m response \u001b[38;5;241m=\u001b[39m \u001b[38;5;28mself\u001b[39m\u001b[38;5;241m.\u001b[39mcommand_executor\u001b[38;5;241m.\u001b[39mexecute(driver_command, params)\n\u001b[0;32m    345\u001b[0m \u001b[38;5;28;01mif\u001b[39;00m response:\n\u001b[1;32m--> 346\u001b[0m     \u001b[38;5;28;43mself\u001b[39;49m\u001b[38;5;241;43m.\u001b[39;49m\u001b[43merror_handler\u001b[49m\u001b[38;5;241;43m.\u001b[39;49m\u001b[43mcheck_response\u001b[49m\u001b[43m(\u001b[49m\u001b[43mresponse\u001b[49m\u001b[43m)\u001b[49m\n\u001b[0;32m    347\u001b[0m     response[\u001b[38;5;124m\"\u001b[39m\u001b[38;5;124mvalue\u001b[39m\u001b[38;5;124m\"\u001b[39m] \u001b[38;5;241m=\u001b[39m \u001b[38;5;28mself\u001b[39m\u001b[38;5;241m.\u001b[39m_unwrap_value(response\u001b[38;5;241m.\u001b[39mget(\u001b[38;5;124m\"\u001b[39m\u001b[38;5;124mvalue\u001b[39m\u001b[38;5;124m\"\u001b[39m, \u001b[38;5;28;01mNone\u001b[39;00m))\n\u001b[0;32m    348\u001b[0m     \u001b[38;5;28;01mreturn\u001b[39;00m response\n",
      "File \u001b[1;32m~\\anaconda3\\lib\\site-packages\\selenium\\webdriver\\remote\\errorhandler.py:229\u001b[0m, in \u001b[0;36mErrorHandler.check_response\u001b[1;34m(self, response)\u001b[0m\n\u001b[0;32m    227\u001b[0m         alert_text \u001b[38;5;241m=\u001b[39m value[\u001b[38;5;124m\"\u001b[39m\u001b[38;5;124malert\u001b[39m\u001b[38;5;124m\"\u001b[39m]\u001b[38;5;241m.\u001b[39mget(\u001b[38;5;124m\"\u001b[39m\u001b[38;5;124mtext\u001b[39m\u001b[38;5;124m\"\u001b[39m)\n\u001b[0;32m    228\u001b[0m     \u001b[38;5;28;01mraise\u001b[39;00m exception_class(message, screen, stacktrace, alert_text)  \u001b[38;5;66;03m# type: ignore[call-arg]  # mypy is not smart enough here\u001b[39;00m\n\u001b[1;32m--> 229\u001b[0m \u001b[38;5;28;01mraise\u001b[39;00m exception_class(message, screen, stacktrace)\n",
      "\u001b[1;31mInvalidSelectorException\u001b[0m: Message: invalid selector: An invalid or illegal selector was specified\n  (Session info: chrome=118.0.5993.120); For documentation on this error, please visit: https://www.selenium.dev/documentation/webdriver/troubleshooting/errors#invalid-selector-exception\nStacktrace:\n\tGetHandleVerifier [0x00007FF6A1268EF2+54786]\n\t(No symbol) [0x00007FF6A11D5612]\n\t(No symbol) [0x00007FF6A108A64B]\n\t(No symbol) [0x00007FF6A108F116]\n\t(No symbol) [0x00007FF6A109115F]\n\t(No symbol) [0x00007FF6A1091250]\n\t(No symbol) [0x00007FF6A10CB424]\n\t(No symbol) [0x00007FF6A10CB91C]\n\t(No symbol) [0x00007FF6A1106D87]\n\t(No symbol) [0x00007FF6A10EBEAF]\n\t(No symbol) [0x00007FF6A1104D02]\n\t(No symbol) [0x00007FF6A10EBC43]\n\t(No symbol) [0x00007FF6A10C0941]\n\t(No symbol) [0x00007FF6A10C1B84]\n\tGetHandleVerifier [0x00007FF6A15B7F52+3524194]\n\tGetHandleVerifier [0x00007FF6A160D800+3874576]\n\tGetHandleVerifier [0x00007FF6A1605D7F+3843215]\n\tGetHandleVerifier [0x00007FF6A1305086+694166]\n\t(No symbol) [0x00007FF6A11E0A88]\n\t(No symbol) [0x00007FF6A11DCA94]\n\t(No symbol) [0x00007FF6A11DCBC2]\n\t(No symbol) [0x00007FF6A11CCC83]\n\tBaseThreadInitThunk [0x00007FFC9A387604+20]\n\tRtlUserThreadStart [0x00007FFC9BD226A1+33]\n"
     ]
    }
   ],
   "source": [
    "from selenium import webdriver\n",
    "import time\n",
    "import pandas as pd\n",
    "\n",
    "# Step 1: Get the webpage\n",
    "driver = webdriver.Chrome()\n",
    "driver.get(\"https://www.motor1.com/\")\n",
    "\n",
    "# Step 2: Type in the search bar '50 most expensive cars'\n",
    "search_bar = driver.find_element(By.XPATH,'/html/body/div[10]/div[2]/div/div/div[3]/div/div/div/form/input')\n",
    "search_bar.send_keys(\"50 most expensive cars\")\n",
    "search_bar.submit()\n",
    "\n",
    "# Wait for the page to load\n",
    "time.sleep(5)\n",
    "\n",
    "# Step 3: Click on '50 most expensive cars in the world'\n",
    "expensive_cars_link = driver.find_element(By.XPATH,'//*[@id=\"page_index_articles_search\"]/div[9]/div/div[1]/div/div/div[2]/div/div[1]/h3/a'))\n",
    "expensive_cars_link.click()\n",
    "\n",
    "# Wait for the page to load\n",
    "time.sleep(5)\n",
    "\n",
    "# Step 4: Scrape the data and make the dataframe\n",
    "car_data = []\n",
    "car_rows = driver.find_elements_by_css_selector(\".module-vehicle-tile-price\")\n",
    "for row in car_rows:\n",
    "    car_name = row.find_element_by_css_selector(\".vehicle-tile-price\").text\n",
    "    car_price = row.find_element_by_css_selector(\".vehicle-pricing-price\").text\n",
    "    car_data.append([car_name, car_price])\n",
    "\n",
    "# Create the dataframe\n",
    "df = pd.DataFrame(car_data, columns=[\"Car Name\", \"Price\"])\n",
    "\n",
    "# Print the dataframe\n",
    "print(df)\n",
    "\n",
    "# Close the webdriver\n",
    "driver.quit()"
   ]
  },
  {
   "cell_type": "code",
   "execution_count": null,
   "id": "90295de2",
   "metadata": {},
   "outputs": [],
   "source": []
  }
 ],
 "metadata": {
  "kernelspec": {
   "display_name": "Python 3 (ipykernel)",
   "language": "python",
   "name": "python3"
  },
  "language_info": {
   "codemirror_mode": {
    "name": "ipython",
    "version": 3
   },
   "file_extension": ".py",
   "mimetype": "text/x-python",
   "name": "python",
   "nbconvert_exporter": "python",
   "pygments_lexer": "ipython3",
   "version": "3.10.9"
  }
 },
 "nbformat": 4,
 "nbformat_minor": 5
}
